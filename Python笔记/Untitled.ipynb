{
 "cells": [
  {
   "cell_type": "markdown",
   "id": "85ee851d",
   "metadata": {},
   "source": [
    "#### 1.Python的函数参数传递 "
   ]
  },
  {
   "cell_type": "markdown",
   "id": "59af9859",
   "metadata": {},
   "source": [
    "* 所有的变量都可以理解是内存中一个对象的“引用”\n",
    "- 变量中存储能够找到“对象”的内存地址\n",
    "* 赋值 or 赋址\n",
    "- 传入函数的参数会根据参数引用对象是否是可变数据\n",
    "- 字符串、整数、元组等为不可变数据类型，列表、字典等都为可变数据类型"
   ]
  },
  {
   "cell_type": "markdown",
   "id": "7af93477",
   "metadata": {},
   "source": [
    "###### 不可变数据类型参数"
   ]
  },
  {
   "cell_type": "code",
   "execution_count": 11,
   "id": "e421c5e8",
   "metadata": {},
   "outputs": [
    {
     "name": "stdout",
     "output_type": "stream",
     "text": [
      "a的值是11，a的地址是2675320187504\n",
      "a的值是11，a的地址是2675320187504\n",
      "传入函数时a的值是11，a的地址是2675320187504\n",
      "重新让2的地址指向a时的值是2，a的地址是2675320187216\n",
      "传入函数时a的值是11，a的地址是2675320187504\n",
      "重新让2的地址指向a时的值是2，a的地址是2675320187216\n",
      "2 2675320187216\n",
      "11 2675320187504\n"
     ]
    }
   ],
   "source": [
    "a = 11\n",
    "print(\"a的值是{}，a的地址是{}\".format(a,id(a)))\n",
    "def test1(a):\n",
    "    print(\"传入函数时a的值是{}，a的地址是{}\".format(a,id(a)))\n",
    "    a = 2\n",
    "    print(\"重新让2的地址指向a时的值是{}，a的地址是{}\".format(a,id(a)))\n",
    "    return a\n",
    "\n",
    "print(\"a的值是{}，a的地址是{}\".format(a,id(a)))\n",
    "print(test1(a),id(test1(a))) #经过函数修改过的a值及a的地址\n",
    "print(a,id(a)) #函数外a的值和地址一直没变，a所指向的对象是复制之后传入函数的\n"
   ]
  },
  {
   "cell_type": "markdown",
   "id": "39ccc56c",
   "metadata": {},
   "source": [
    "###### 可变数据类型参数传参"
   ]
  },
  {
   "cell_type": "code",
   "execution_count": 12,
   "id": "be0828b6",
   "metadata": {},
   "outputs": [
    {
     "name": "stdout",
     "output_type": "stream",
     "text": [
      "a的值是[1]，a的地址是2675402309504\n",
      "a的值是[1]，a的地址是2675402309504\n",
      "传入函数时a的值是[1]，a的地址是2675402309504\n",
      "重新让2的地址指向a时的值是[1, 2]，a的地址是2675402309504\n",
      "传入函数时a的值是[1, 2]，a的地址是2675402309504\n",
      "重新让2的地址指向a时的值是[1, 2, 2]，a的地址是2675402309504\n",
      "[1, 2, 2] 2675402309504\n",
      "[1, 2, 2] 2675402309504\n"
     ]
    }
   ],
   "source": [
    "a = [1]\n",
    "print(\"a的值是{}，a的地址是{}\".format(a,id(a)))\n",
    "def test1(a):\n",
    "    print(\"传入函数时a的值是{}，a的地址是{}\".format(a,id(a)))\n",
    "    a.append(2)\n",
    "    print(\"重新让2的地址指向a时的值是{}，a的地址是{}\".format(a,id(a)))\n",
    "    return a\n",
    "\n",
    "print(\"a的值是{}，a的地址是{}\".format(a,id(a)))\n",
    "print(test1(a),id(test1(a))) #经过函数修改过的a值变化及a指向的地址没变\n",
    "print(a,id(a)) #函数外a的值和地址一直没变，a所指向的对象是直接复址之后传入函数的\n"
   ]
  },
  {
   "cell_type": "markdown",
   "id": "c054bf9f",
   "metadata": {},
   "source": [
    "#### 2. Python 中的元类metaclass\n",
    "- 类就是一组用来描述如何生成一个对象的代码段\n",
    "- 在python中类也是对象\n",
    "- 类是个对象所以，可以把它赋值给一个变量，可以赋值它，可以给它添加属性，可以作为函数参数来传递它"
   ]
  },
  {
   "cell_type": "code",
   "execution_count": 18,
   "id": "509c2525",
   "metadata": {},
   "outputs": [
    {
     "data": {
      "text/plain": [
       "2675382162784"
      ]
     },
     "execution_count": 18,
     "metadata": {},
     "output_type": "execute_result"
    }
   ],
   "source": [
    "class ObjectCreator(object):\n",
    "    pass\n",
    "id(ObjectCreator)\n",
    "#上面代码在内存里创建了名叫“ObjectCreator”的对象，这个对象（类）有生成\n",
    "#对象（实例）的能力，这就是为什么叫做类"
   ]
  },
  {
   "cell_type": "code",
   "execution_count": 22,
   "id": "e6f9e929",
   "metadata": {},
   "outputs": [
    {
     "name": "stdout",
     "output_type": "stream",
     "text": [
      "<class '__main__.ObjectCreator'>\n",
      "<class '__main__.ObjectCreator'>\n",
      "foo\n",
      "foo\n",
      "<__main__.ObjectCreator object at 0x0000026EEB9C8400>\n"
     ]
    }
   ],
   "source": [
    "def echo(o):\n",
    "    print(o)\n",
    "print(ObjectCreator) #可以打印一个类，因为它是一个对象\n",
    "echo(ObjectCreator) # 可以把类作为参数传递\n",
    "ObjectCreator.new_attribute = 'foo' \n",
    "print(ObjectCreator.new_attribute) # 可以给一个类添加属性\n",
    "ObjectCreatorMirror = ObjectCreator\n",
    "print(ObjectCreatorMirror.new_attribute)# 可以把类赋值给一个变量\n",
    "print(ObjectCreatorMirror())"
   ]
  }
 ],
 "metadata": {
  "kernelspec": {
   "display_name": "Python 3 (ipykernel)",
   "language": "python",
   "name": "python3"
  },
  "language_info": {
   "codemirror_mode": {
    "name": "ipython",
    "version": 3
   },
   "file_extension": ".py",
   "mimetype": "text/x-python",
   "name": "python",
   "nbconvert_exporter": "python",
   "pygments_lexer": "ipython3",
   "version": "3.9.12"
  }
 },
 "nbformat": 4,
 "nbformat_minor": 5
}
