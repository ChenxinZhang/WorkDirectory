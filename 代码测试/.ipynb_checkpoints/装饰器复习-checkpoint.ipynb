{
 "cells": [
  {
   "cell_type": "code",
   "execution_count": 1,
   "id": "2c2a784b",
   "metadata": {},
   "outputs": [],
   "source": [
    "def logger(func):\n",
    "    def wrapper(*args, **kw):\n",
    "        print('主人，我准备开始执行：{} 函数了:'.format(func.__name__))\n",
    "\n",
    "        # 真正执行的是这行。\n",
    "        func(*args, **kw)\n",
    "\n",
    "        print('主人，我执行完啦。')\n",
    "    return wrapper"
   ]
  },
  {
   "cell_type": "code",
   "execution_count": 22,
   "id": "eacb263f",
   "metadata": {},
   "outputs": [],
   "source": [
    "@logger\n",
    "def printf(name,age):\n",
    "    print(\"我叫 %s 今年 %d\" %(name,age))"
   ]
  },
  {
   "cell_type": "code",
   "execution_count": 23,
   "id": "b359b587",
   "metadata": {},
   "outputs": [
    {
     "name": "stdout",
     "output_type": "stream",
     "text": [
      "主人，我准备开始执行：printf 函数了:\n",
      "我叫 张承炘 今年 18\n",
      "主人，我执行完啦。\n"
     ]
    }
   ],
   "source": [
    "printf(\"张承炘\",18)"
   ]
  },
  {
   "cell_type": "code",
   "execution_count": 13,
   "id": "63cfe70f",
   "metadata": {},
   "outputs": [],
   "source": [
    "@logger\n",
    "def add(x, y):\n",
    "    print('{} + {} = {}'.format(x, y, x+y))"
   ]
  },
  {
   "cell_type": "code",
   "execution_count": 14,
   "id": "1479675e",
   "metadata": {},
   "outputs": [
    {
     "name": "stdout",
     "output_type": "stream",
     "text": [
      "主人，我准备开始执行：add 函数了:\n",
      "50 + 100 = 150\n",
      "主人，我执行完啦。\n"
     ]
    }
   ],
   "source": [
    "add(50,100)"
   ]
  },
  {
   "cell_type": "code",
   "execution_count": null,
   "id": "6927733d",
   "metadata": {},
   "outputs": [],
   "source": [
    "def timer(func):\n",
    "    def wrapper(*args,**kw):\n",
    "        t1 = time.time()\n",
    "        func\n",
    "        "
   ]
  },
  {
   "cell_type": "code",
   "execution_count": 30,
   "id": "9f9d20b6",
   "metadata": {},
   "outputs": [],
   "source": [
    "import time\n",
    "t1 = time.time()\n",
    "# print(\"zzz\"*1000)\n",
    "t2 = time.time()\n"
   ]
  },
  {
   "cell_type": "code",
   "execution_count": null,
   "id": "cdb5ad02",
   "metadata": {},
   "outputs": [],
   "source": [
    "def say_hello(country):\n",
    "    def wrapper(func):\n",
    "        def deco(*args,**kwargs):\n",
    "            if country == \"china\":\n",
    "                print(\"你好！\")\n",
    "            elif country == \"america\":\n",
    "                print(\"hello.\")\n",
    "            else:\n",
    "                return\n",
    "            func(*args,**kwargs)\n",
    "        return deco\n",
    "    return wrapper"
   ]
  },
  {
   "cell_type": "code",
   "execution_count": 32,
   "id": "08674a15",
   "metadata": {},
   "outputs": [],
   "source": [
    "def foo(x):\n",
    "    print(\"executing foo(%s)\"%(x))\n",
    "\n",
    "class A(object):\n",
    "    def foo(self,x):\n",
    "        print(\"executing foo(%s,%s)\"%(self,x))\n",
    "\n",
    "    @classmethod\n",
    "    def class_foo(cls,x):\n",
    "        print(\"executing class_foo(%s,%s)\"%(cls,x))\n",
    "\n",
    "    @staticmethod\n",
    "    def static_foo(x):\n",
    "        print(\"executing static_foo(%s)\"%x)\n",
    "\n",
    "\n"
   ]
  },
  {
   "cell_type": "code",
   "execution_count": 37,
   "id": "f28fe653",
   "metadata": {},
   "outputs": [
    {
     "name": "stdout",
     "output_type": "stream",
     "text": [
      "executing foo(<__main__.A object at 0x0000014498B9E2B0>,self)\n"
     ]
    },
    {
     "ename": "TypeError",
     "evalue": "A() takes no arguments",
     "output_type": "error",
     "traceback": [
      "\u001b[1;31m---------------------------------------------------------------------------\u001b[0m",
      "\u001b[1;31mTypeError\u001b[0m                                 Traceback (most recent call last)",
      "Input \u001b[1;32mIn [37]\u001b[0m, in \u001b[0;36m<cell line: 3>\u001b[1;34m()\u001b[0m\n\u001b[0;32m      1\u001b[0m a\u001b[38;5;241m=\u001b[39mA()\n\u001b[0;32m      2\u001b[0m a\u001b[38;5;241m.\u001b[39mfoo(\u001b[38;5;124m\"\u001b[39m\u001b[38;5;124mself\u001b[39m\u001b[38;5;124m\"\u001b[39m)\n\u001b[1;32m----> 3\u001b[0m \u001b[43mA\u001b[49m\u001b[43m(\u001b[49m\u001b[38;5;124;43m\"\u001b[39;49m\u001b[38;5;124;43mself\u001b[39;49m\u001b[38;5;124;43m\"\u001b[39;49m\u001b[43m)\u001b[49m\n",
      "\u001b[1;31mTypeError\u001b[0m: A() takes no arguments"
     ]
    }
   ],
   "source": [
    "a=A()\n",
    "a.foo(\"self\")\n",
    "A(\"self\")"
   ]
  },
  {
   "cell_type": "code",
   "execution_count": 41,
   "id": "71d181cd",
   "metadata": {},
   "outputs": [
    {
     "data": {
      "text/plain": [
       "2"
      ]
     },
     "execution_count": 41,
     "metadata": {},
     "output_type": "execute_result"
    }
   ],
   "source": [
    "d = {key:value for (key,value) in [(1,2),(2,3),(4,5)]}\n",
    "d[1]"
   ]
  },
  {
   "cell_type": "code",
   "execution_count": 46,
   "id": "ad3873a3",
   "metadata": {},
   "outputs": [
    {
     "ename": "IndexError",
     "evalue": "Replacement index 1 out of range for positional args tuple",
     "output_type": "error",
     "traceback": [
      "\u001b[1;31m---------------------------------------------------------------------------\u001b[0m",
      "\u001b[1;31mIndexError\u001b[0m                                Traceback (most recent call last)",
      "Input \u001b[1;32mIn [46]\u001b[0m, in \u001b[0;36m<cell line: 2>\u001b[1;34m()\u001b[0m\n\u001b[0;32m      1\u001b[0m name \u001b[38;5;241m=\u001b[39m (\u001b[38;5;241m1\u001b[39m,\u001b[38;5;241m2\u001b[39m,\u001b[38;5;241m3\u001b[39m)\n\u001b[1;32m----> 2\u001b[0m \u001b[38;5;124;43m\"\u001b[39;49m\u001b[38;5;124;43mhi there \u001b[39;49m\u001b[38;5;132;43;01m{}\u001b[39;49;00m\u001b[38;5;124;43m,\u001b[39;49m\u001b[38;5;132;43;01m{}\u001b[39;49;00m\u001b[38;5;124;43m\"\u001b[39;49m\u001b[38;5;241;43m.\u001b[39;49m\u001b[43mformat\u001b[49m\u001b[43m(\u001b[49m\u001b[43mname\u001b[49m\u001b[43m)\u001b[49m\n",
      "\u001b[1;31mIndexError\u001b[0m: Replacement index 1 out of range for positional args tuple"
     ]
    }
   ],
   "source": [
    "name = (1,2,3)\n",
    "\"hi there {},{}\".format(name)  # 提供一个单元素的数组而不是一个参数"
   ]
  }
 ],
 "metadata": {
  "kernelspec": {
   "display_name": "Python 3 (ipykernel)",
   "language": "python",
   "name": "python3"
  },
  "language_info": {
   "codemirror_mode": {
    "name": "ipython",
    "version": 3
   },
   "file_extension": ".py",
   "mimetype": "text/x-python",
   "name": "python",
   "nbconvert_exporter": "python",
   "pygments_lexer": "ipython3",
   "version": "3.9.12"
  }
 },
 "nbformat": 4,
 "nbformat_minor": 5
}
